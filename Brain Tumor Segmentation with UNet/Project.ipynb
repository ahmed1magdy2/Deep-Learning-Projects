{
 "cells": [
  {
   "cell_type": "code",
   "execution_count": 1,
   "id": "d718718d",
   "metadata": {
    "ExecuteTime": {
     "end_time": "2024-02-06T21:16:57.006685Z",
     "start_time": "2024-02-06T21:16:38.586605Z"
    }
   },
   "outputs": [
    {
     "name": "stdout",
     "output_type": "stream",
     "text": [
      "Collecting albumentations\n",
      "  Downloading albumentations-1.3.1-py3-none-any.whl (125 kB)\n",
      "Requirement already satisfied: scipy>=1.1.0 in c:\\users\\ai\\anaconda3\\lib\\site-packages (from albumentations) (1.7.3)\n",
      "Requirement already satisfied: scikit-image>=0.16.1 in c:\\users\\ai\\anaconda3\\lib\\site-packages (from albumentations) (0.19.2)\n",
      "Requirement already satisfied: PyYAML in c:\\users\\ai\\anaconda3\\lib\\site-packages (from albumentations) (6.0)\n",
      "Requirement already satisfied: numpy>=1.11.1 in c:\\users\\ai\\anaconda3\\lib\\site-packages (from albumentations) (1.22.4)\n",
      "Collecting qudida>=0.0.4\n",
      "  Downloading qudida-0.0.4-py3-none-any.whl (3.5 kB)\n",
      "Collecting opencv-python-headless>=4.1.1\n",
      "  Downloading opencv_python_headless-4.9.0.80-cp37-abi3-win_amd64.whl (38.5 MB)\n",
      "Requirement already satisfied: scikit-learn>=0.19.1 in c:\\users\\ai\\anaconda3\\lib\\site-packages (from qudida>=0.0.4->albumentations) (1.0.2)\n",
      "Requirement already satisfied: typing-extensions in c:\\users\\ai\\anaconda3\\lib\\site-packages (from qudida>=0.0.4->albumentations) (4.1.1)\n",
      "Requirement already satisfied: tifffile>=2019.7.26 in c:\\users\\ai\\anaconda3\\lib\\site-packages (from scikit-image>=0.16.1->albumentations) (2021.7.2)\n",
      "Requirement already satisfied: pillow!=7.1.0,!=7.1.1,!=8.3.0,>=6.1.0 in c:\\users\\ai\\anaconda3\\lib\\site-packages (from scikit-image>=0.16.1->albumentations) (9.0.1)\n",
      "Requirement already satisfied: PyWavelets>=1.1.1 in c:\\users\\ai\\anaconda3\\lib\\site-packages (from scikit-image>=0.16.1->albumentations) (1.3.0)\n",
      "Requirement already satisfied: imageio>=2.4.1 in c:\\users\\ai\\anaconda3\\lib\\site-packages (from scikit-image>=0.16.1->albumentations) (2.9.0)\n",
      "Requirement already satisfied: packaging>=20.0 in c:\\users\\ai\\anaconda3\\lib\\site-packages (from scikit-image>=0.16.1->albumentations) (21.3)\n",
      "Requirement already satisfied: networkx>=2.2 in c:\\users\\ai\\anaconda3\\lib\\site-packages (from scikit-image>=0.16.1->albumentations) (2.7.1)\n",
      "Requirement already satisfied: pyparsing!=3.0.5,>=2.0.2 in c:\\users\\ai\\anaconda3\\lib\\site-packages (from packaging>=20.0->scikit-image>=0.16.1->albumentations) (3.0.4)\n",
      "Requirement already satisfied: joblib>=0.11 in c:\\users\\ai\\anaconda3\\lib\\site-packages (from scikit-learn>=0.19.1->qudida>=0.0.4->albumentations) (1.1.0)\n",
      "Requirement already satisfied: threadpoolctl>=2.0.0 in c:\\users\\ai\\anaconda3\\lib\\site-packages (from scikit-learn>=0.19.1->qudida>=0.0.4->albumentations) (2.2.0)\n",
      "Installing collected packages: opencv-python-headless, qudida, albumentations\n",
      "Successfully installed albumentations-1.3.1 opencv-python-headless-4.9.0.80 qudida-0.0.4\n"
     ]
    }
   ],
   "source": [
    "!pip install albumentations --user"
   ]
  },
  {
   "cell_type": "markdown",
   "id": "9fc5c97d",
   "metadata": {},
   "source": [
    "# Import Libraries"
   ]
  },
  {
   "cell_type": "code",
   "execution_count": 1,
   "id": "32f6f0fe",
   "metadata": {
    "ExecuteTime": {
     "end_time": "2024-02-08T06:41:22.474440Z",
     "start_time": "2024-02-08T06:41:17.062876Z"
    }
   },
   "outputs": [],
   "source": [
    "import os\n",
    "import numpy as np\n",
    "import pandas as pd\n",
    "import cv2\n",
    "from glob import glob\n",
    "from sklearn.utils import shuffle\n",
    "import tensorflow as tf\n",
    "from tensorflow.keras.callbacks import ModelCheckpoint, CSVLogger, ReduceLROnPlateau, EarlyStopping, TensorBoard\n",
    "from tensorflow.keras.optimizers import Adam\n",
    "from sklearn.model_selection import train_test_split\n",
    "from unet import build_unet\n",
    "from tqdm import tqdm\n",
    "from tensorflow.keras.utils import CustomObjectScope\n",
    "from sklearn.metrics import f1_score, jaccard_score, precision_score, recall_score\n",
    "from tensorflow.keras.metrics import Recall, Precision\n",
    "import keras.backend as K\n",
    "from albumentations import HorizontalFlip, VerticalFlip, Rotate"
   ]
  },
  {
   "cell_type": "markdown",
   "id": "e12339d5",
   "metadata": {
    "ExecuteTime": {
     "end_time": "2024-02-06T18:51:20.894124Z",
     "start_time": "2024-02-06T18:51:20.889327Z"
    }
   },
   "source": [
    "# Global Parameters"
   ]
  },
  {
   "cell_type": "code",
   "execution_count": 2,
   "id": "d64fe4c2",
   "metadata": {
    "ExecuteTime": {
     "end_time": "2024-02-08T06:41:26.005930Z",
     "start_time": "2024-02-08T06:41:26.000928Z"
    }
   },
   "outputs": [],
   "source": [
    "H = 512\n",
    "W = 256\n",
    "model_name = f\"model_segmentation_{W}x{H}px.h5\""
   ]
  },
  {
   "cell_type": "markdown",
   "id": "e01ef65b",
   "metadata": {},
   "source": [
    "# Define Some Functions"
   ]
  },
  {
   "cell_type": "code",
   "execution_count": 8,
   "id": "8eca0ea9",
   "metadata": {
    "ExecuteTime": {
     "end_time": "2024-02-08T06:45:00.668482Z",
     "start_time": "2024-02-08T06:45:00.632422Z"
    }
   },
   "outputs": [],
   "source": [
    "smooth = 1e-15\n",
    "def dice_coef(y_true, y_pred):\n",
    "    y_true = tf.keras.layers.Flatten()(y_true)\n",
    "    y_pred = tf.keras.layers.Flatten()(y_pred)\n",
    "    intersection = tf.reduce_sum(y_true * y_pred)\n",
    "    return (2. * intersection + smooth) / (tf.reduce_sum(y_true) + tf.reduce_sum(y_pred) + smooth)\n",
    "\n",
    "def dice_loss(y_true, y_pred):\n",
    "    return 1.0 - dice_coef(y_true, y_pred)\n",
    "\n",
    "def iou(y_true, y_pred):\n",
    "    def f(y_true, y_pred):\n",
    "        intersection = (y_true * y_pred).sum()\n",
    "        union = y_true.sum() + y_pred.sum() - intersection\n",
    "        x = (intersection + 1e-15) / (union + 1e-15)\n",
    "        x = x.astype(np.float32)\n",
    "        return x\n",
    "    return tf.numpy_function(f, [y_true, y_pred], tf.float32)\n",
    "\n",
    "\n",
    "def create_dir(path):\n",
    "    if not os.path.exists(path):\n",
    "        os.makedirs(path)\n",
    "\n",
    "def load_dataset(path, split=0.2):\n",
    "    images = sorted(glob(f\"{path}/*/tumor/images/*\"))\n",
    "    masks = sorted(glob(f\"{path}/*/tumor/masks/*\"))\n",
    "\n",
    "    split_size = int(len(images) * split)\n",
    "\n",
    "    train_x, valid_x = train_test_split(images, test_size=split_size, random_state=42)\n",
    "    train_y, valid_y = train_test_split(masks, test_size=split_size, random_state=42)\n",
    "\n",
    "    train_x, test_x = train_test_split(train_x, test_size=split_size, random_state=42)\n",
    "    train_y, test_y = train_test_split(train_y, test_size=split_size, random_state=42)\n",
    "\n",
    "    return (train_x, train_y), (valid_x, valid_y), (test_x, test_y)\n",
    "\n",
    "def load_trainable_data(path):\n",
    "    images = sorted(glob(f\"{path}/images/*.jpg\"))\n",
    "    masks = sorted(glob(f\"{path}/masks/*.jpg\"))\n",
    "    \n",
    "    return (images,masks)\n",
    "\n",
    "def augment_data(images, masks, save_path, augment=True):\n",
    "    \"\"\" Performing data augmentation. \"\"\"\n",
    "    for idx, (x, y) in tqdm(enumerate(zip(images, masks)), total=len(images)):\n",
    "        \"\"\" Extracting the dir name and image name \"\"\"\n",
    "        dir_name = x.split(\"\\\\\")[-3]\n",
    "        name = dir_name + \"_\" + x.split(\"\\\\\")[-1].split(\".\")[0]\n",
    "\n",
    "        \"\"\" Read the image and mask \"\"\"\n",
    "        x = cv2.imread(x, cv2.IMREAD_COLOR)\n",
    "        y = cv2.imread(y, cv2.IMREAD_COLOR)\n",
    "\n",
    "        if augment == True:\n",
    "            aug = HorizontalFlip(p=1.0)\n",
    "            augmented = aug(image=x, mask=y)\n",
    "            x1 = augmented[\"image\"]\n",
    "            y1 = augmented[\"mask\"]\n",
    "\n",
    "            aug = VerticalFlip(p=1)\n",
    "            augmented = aug(image=x, mask=y)\n",
    "            x2 = augmented['image']\n",
    "            y2 = augmented['mask']\n",
    "\n",
    "            aug = Rotate(limit=45, p=1.0)\n",
    "            augmented = aug(image=x, mask=y)\n",
    "            x3 = augmented[\"image\"]\n",
    "            y3 = augmented[\"mask\"]\n",
    "\n",
    "            X = [x, x1, x2, x3]\n",
    "            Y = [y, y1, y2, y3]\n",
    "\n",
    "        else:\n",
    "            X = [x]\n",
    "            #print(len(X))\n",
    "            Y =[y]\n",
    "\n",
    "        idx = 0\n",
    "        for i, m in zip(X, Y):\n",
    "            i = cv2.resize(i, (W, H))\n",
    "            m = cv2.resize(m, (W, H))\n",
    "            m = m/255.0\n",
    "            m = (m > 0.5) * 255\n",
    "\n",
    "            if len(X) == 1:  # each loop it will take one image \n",
    "                tmp_image_name = f\"{name}.jpg\"\n",
    "                tmp_mask_name  = f\"{name}.jpg\"\n",
    "            else:\n",
    "                tmp_image_name = f\"{name}_{idx}.jpg\"\n",
    "                tmp_mask_name  = f\"{name}_{idx}.jpg\"\n",
    "\n",
    "            image_path = os.path.join(save_path, \"images/\", tmp_image_name)\n",
    "            mask_path  = os.path.join(save_path, \"masks/\", tmp_mask_name)\n",
    "            \n",
    "            cv2.imwrite(image_path, i)\n",
    "            cv2.imwrite(mask_path, m)\n",
    "\n",
    "            idx += 1\n",
    "\n",
    "\n",
    "def read_image(path):\n",
    "    path = path.decode()\n",
    "    x = cv2.imread(path, cv2.IMREAD_COLOR)\n",
    "    x = cv2.resize(x, (W, H))\n",
    "    x = x / 255.0\n",
    "    x = x.astype(np.float32)\n",
    "    return x\n",
    "\n",
    "def read_mask(path):\n",
    "    path = path.decode()\n",
    "    x = cv2.imread(path, cv2.IMREAD_GRAYSCALE)  ## (h, w)\n",
    "    x = cv2.resize(x, (W, H))   ## (h, w)\n",
    "    x = x / 255.0               ## (h, w)\n",
    "    x = x.astype(np.float32)    ## (h, w)\n",
    "    x = np.expand_dims(x, axis=-1)## (h, w, 1)\n",
    "    return x\n",
    "\n",
    "def tf_parse(x, y):\n",
    "    def _parse(x, y):\n",
    "        x = read_image(x)\n",
    "        y = read_mask(y)\n",
    "        return x, y\n",
    "\n",
    "    x, y = tf.numpy_function(_parse, [x, y], [tf.float32, tf.float32])\n",
    "    x.set_shape([H, W, 3])\n",
    "    y.set_shape([H, W, 1])\n",
    "    return x, y\n",
    "\n",
    "def tf_dataset(X, Y, batch=2):\n",
    "    dataset = tf.data.Dataset.from_tensor_slices((X, Y))\n",
    "    dataset = dataset.map(tf_parse)\n",
    "    dataset = dataset.batch(batch)\n",
    "    dataset = dataset.prefetch(10)\n",
    "    return dataset\n",
    "\n",
    "\n",
    "def save_results(image, mask, y_pred, save_image_path):\n",
    "    ## i - m - y\n",
    "    line = np.ones((H, 10, 3)) * 128\n",
    "\n",
    "    \"\"\" Mask \"\"\"\n",
    "    mask = np.expand_dims(mask, axis=-1)    ## (512, 512, 1)\n",
    "    mask = np.concatenate([mask, mask, mask], axis=-1)  ## (512, 512, 3)\n",
    "\n",
    "    \"\"\" Predicted Mask \"\"\"\n",
    "    y_pred = np.expand_dims(y_pred, axis=-1)    ## (512, 512, 1)\n",
    "    y_pred = np.concatenate([y_pred, y_pred, y_pred], axis=-1)  ## (512, 512, 3)\n",
    "    y_pred = y_pred * 255\n",
    "\n",
    "    cat_images = np.concatenate([image, line, mask, line, y_pred], axis=1)\n",
    "    cv2.imwrite(save_image_path, cat_images)"
   ]
  },
  {
   "cell_type": "markdown",
   "id": "9956c649",
   "metadata": {},
   "source": [
    "# Set hyperparameters"
   ]
  },
  {
   "cell_type": "code",
   "execution_count": 17,
   "id": "cc56e32c",
   "metadata": {
    "ExecuteTime": {
     "end_time": "2024-02-08T07:15:15.626045Z",
     "start_time": "2024-02-08T07:15:15.610847Z"
    }
   },
   "outputs": [],
   "source": [
    "create_dir(\"files\")\n",
    "\n",
    "batch_size = 32\n",
    "lr = 1e-4\n",
    "num_epochs = 100\n",
    "model_path = os.path.join(\"files\", model_name)\n",
    "csv_path = os.path.join(\"files\", \"log.csv\")\n"
   ]
  },
  {
   "cell_type": "markdown",
   "id": "9fa1ff33",
   "metadata": {},
   "source": [
    "# load a Dataset"
   ]
  },
  {
   "cell_type": "code",
   "execution_count": 12,
   "id": "89f48075",
   "metadata": {
    "ExecuteTime": {
     "end_time": "2024-02-08T07:12:16.927580Z",
     "start_time": "2024-02-08T07:12:16.700256Z"
    }
   },
   "outputs": [
    {
     "name": "stdout",
     "output_type": "stream",
     "text": [
      "Train: 1384 - 1384\n",
      "Valid: 461 - 461\n",
      "Test : 461 - 461\n"
     ]
    }
   ],
   "source": [
    "dataset_path = \"Dataset/\"\n",
    "(train_x, train_y), (valid_x, valid_y), (test_x, test_y) = load_dataset(dataset_path)\n",
    "\n",
    "print(f\"Train: {len(train_x)} - {len(train_y)}\")\n",
    "print(f\"Valid: {len(valid_x)} - {len(valid_y)}\")\n",
    "print(f\"Test : {len(test_x)} - {len(test_y)}\")\n",
    "\n",
    "train_dataset = tf_dataset(train_x, train_y, batch=batch_size)\n",
    "valid_dataset = tf_dataset(valid_x, valid_y, batch=batch_size)"
   ]
  },
  {
   "cell_type": "markdown",
   "id": "62bee504",
   "metadata": {},
   "source": [
    "## make Data Augmentation for training data"
   ]
  },
  {
   "cell_type": "code",
   "execution_count": 13,
   "id": "21a799f2",
   "metadata": {
    "ExecuteTime": {
     "end_time": "2024-02-08T07:13:54.036138Z",
     "start_time": "2024-02-08T07:12:46.875435Z"
    }
   },
   "outputs": [
    {
     "name": "stderr",
     "output_type": "stream",
     "text": [
      "100%|██████████████████████████████████████████████████████████████████████████████| 1384/1384 [01:07<00:00, 20.61it/s]\n"
     ]
    }
   ],
   "source": [
    "create_dir(\"Dataset_new/images/\")\n",
    "create_dir(\"Dataset_new/masks/\")\n",
    "\n",
    "augment_data(train_x, train_y, \"Dataset_new/\", augment=True)"
   ]
  },
  {
   "cell_type": "markdown",
   "id": "e94a555f",
   "metadata": {},
   "source": [
    "## load trainable data"
   ]
  },
  {
   "cell_type": "code",
   "execution_count": 14,
   "id": "a632b302",
   "metadata": {
    "ExecuteTime": {
     "end_time": "2024-02-08T07:14:01.663147Z",
     "start_time": "2024-02-08T07:14:01.533011Z"
    }
   },
   "outputs": [],
   "source": [
    "train_x,train_y = load_trainable_data(\"Dataset_new/\")\n",
    "train_dataset = tf_dataset(train_x, train_y, batch=batch_size)"
   ]
  },
  {
   "cell_type": "code",
   "execution_count": 15,
   "id": "85ec9bad",
   "metadata": {
    "ExecuteTime": {
     "end_time": "2024-02-08T07:14:02.724412Z",
     "start_time": "2024-02-08T07:14:02.714408Z"
    },
    "scrolled": true
   },
   "outputs": [
    {
     "data": {
      "text/plain": [
       "4992"
      ]
     },
     "execution_count": 15,
     "metadata": {},
     "output_type": "execute_result"
    }
   ],
   "source": [
    "len(train_x)"
   ]
  },
  {
   "cell_type": "markdown",
   "id": "479570f3",
   "metadata": {},
   "source": [
    "# Model"
   ]
  },
  {
   "cell_type": "code",
   "execution_count": 16,
   "id": "a14af88e",
   "metadata": {
    "ExecuteTime": {
     "end_time": "2024-02-08T07:14:12.303024Z",
     "start_time": "2024-02-08T07:14:11.241360Z"
    }
   },
   "outputs": [
    {
     "name": "stdout",
     "output_type": "stream",
     "text": [
      "Model: \"UNET\"\n",
      "__________________________________________________________________________________________________\n",
      " Layer (type)                Output Shape                 Param #   Connected to                  \n",
      "==================================================================================================\n",
      " input_1 (InputLayer)        [(None, 512, 256, 3)]        0         []                            \n",
      "                                                                                                  \n",
      " conv2d (Conv2D)             (None, 512, 256, 64)         1792      ['input_1[0][0]']             \n",
      "                                                                                                  \n",
      " batch_normalization (Batch  (None, 512, 256, 64)         256       ['conv2d[0][0]']              \n",
      " Normalization)                                                                                   \n",
      "                                                                                                  \n",
      " activation (Activation)     (None, 512, 256, 64)         0         ['batch_normalization[0][0]'] \n",
      "                                                                                                  \n",
      " conv2d_1 (Conv2D)           (None, 512, 256, 64)         36928     ['activation[0][0]']          \n",
      "                                                                                                  \n",
      " batch_normalization_1 (Bat  (None, 512, 256, 64)         256       ['conv2d_1[0][0]']            \n",
      " chNormalization)                                                                                 \n",
      "                                                                                                  \n",
      " activation_1 (Activation)   (None, 512, 256, 64)         0         ['batch_normalization_1[0][0]'\n",
      "                                                                    ]                             \n",
      "                                                                                                  \n",
      " max_pooling2d (MaxPooling2  (None, 256, 128, 64)         0         ['activation_1[0][0]']        \n",
      " D)                                                                                               \n",
      "                                                                                                  \n",
      " conv2d_2 (Conv2D)           (None, 256, 128, 128)        73856     ['max_pooling2d[0][0]']       \n",
      "                                                                                                  \n",
      " batch_normalization_2 (Bat  (None, 256, 128, 128)        512       ['conv2d_2[0][0]']            \n",
      " chNormalization)                                                                                 \n",
      "                                                                                                  \n",
      " activation_2 (Activation)   (None, 256, 128, 128)        0         ['batch_normalization_2[0][0]'\n",
      "                                                                    ]                             \n",
      "                                                                                                  \n",
      " conv2d_3 (Conv2D)           (None, 256, 128, 128)        147584    ['activation_2[0][0]']        \n",
      "                                                                                                  \n",
      " batch_normalization_3 (Bat  (None, 256, 128, 128)        512       ['conv2d_3[0][0]']            \n",
      " chNormalization)                                                                                 \n",
      "                                                                                                  \n",
      " activation_3 (Activation)   (None, 256, 128, 128)        0         ['batch_normalization_3[0][0]'\n",
      "                                                                    ]                             \n",
      "                                                                                                  \n",
      " max_pooling2d_1 (MaxPoolin  (None, 128, 64, 128)         0         ['activation_3[0][0]']        \n",
      " g2D)                                                                                             \n",
      "                                                                                                  \n",
      " conv2d_4 (Conv2D)           (None, 128, 64, 256)         295168    ['max_pooling2d_1[0][0]']     \n",
      "                                                                                                  \n",
      " batch_normalization_4 (Bat  (None, 128, 64, 256)         1024      ['conv2d_4[0][0]']            \n",
      " chNormalization)                                                                                 \n",
      "                                                                                                  \n",
      " activation_4 (Activation)   (None, 128, 64, 256)         0         ['batch_normalization_4[0][0]'\n",
      "                                                                    ]                             \n",
      "                                                                                                  \n",
      " conv2d_5 (Conv2D)           (None, 128, 64, 256)         590080    ['activation_4[0][0]']        \n",
      "                                                                                                  \n",
      " batch_normalization_5 (Bat  (None, 128, 64, 256)         1024      ['conv2d_5[0][0]']            \n",
      " chNormalization)                                                                                 \n",
      "                                                                                                  \n",
      " activation_5 (Activation)   (None, 128, 64, 256)         0         ['batch_normalization_5[0][0]'\n",
      "                                                                    ]                             \n",
      "                                                                                                  \n",
      " max_pooling2d_2 (MaxPoolin  (None, 64, 32, 256)          0         ['activation_5[0][0]']        \n",
      " g2D)                                                                                             \n",
      "                                                                                                  \n",
      " conv2d_6 (Conv2D)           (None, 64, 32, 512)          1180160   ['max_pooling2d_2[0][0]']     \n",
      "                                                                                                  \n",
      " batch_normalization_6 (Bat  (None, 64, 32, 512)          2048      ['conv2d_6[0][0]']            \n",
      " chNormalization)                                                                                 \n",
      "                                                                                                  \n",
      " activation_6 (Activation)   (None, 64, 32, 512)          0         ['batch_normalization_6[0][0]'\n",
      "                                                                    ]                             \n",
      "                                                                                                  \n",
      " conv2d_7 (Conv2D)           (None, 64, 32, 512)          2359808   ['activation_6[0][0]']        \n",
      "                                                                                                  \n",
      " batch_normalization_7 (Bat  (None, 64, 32, 512)          2048      ['conv2d_7[0][0]']            \n",
      " chNormalization)                                                                                 \n",
      "                                                                                                  \n",
      " activation_7 (Activation)   (None, 64, 32, 512)          0         ['batch_normalization_7[0][0]'\n",
      "                                                                    ]                             \n",
      "                                                                                                  \n",
      " max_pooling2d_3 (MaxPoolin  (None, 32, 16, 512)          0         ['activation_7[0][0]']        \n",
      " g2D)                                                                                             \n",
      "                                                                                                  \n",
      " conv2d_8 (Conv2D)           (None, 32, 16, 1024)         4719616   ['max_pooling2d_3[0][0]']     \n",
      "                                                                                                  \n",
      " batch_normalization_8 (Bat  (None, 32, 16, 1024)         4096      ['conv2d_8[0][0]']            \n"
     ]
    },
    {
     "name": "stdout",
     "output_type": "stream",
     "text": [
      " chNormalization)                                                                                 \n",
      "                                                                                                  \n",
      " activation_8 (Activation)   (None, 32, 16, 1024)         0         ['batch_normalization_8[0][0]'\n",
      "                                                                    ]                             \n",
      "                                                                                                  \n",
      " conv2d_9 (Conv2D)           (None, 32, 16, 1024)         9438208   ['activation_8[0][0]']        \n",
      "                                                                                                  \n",
      " batch_normalization_9 (Bat  (None, 32, 16, 1024)         4096      ['conv2d_9[0][0]']            \n",
      " chNormalization)                                                                                 \n",
      "                                                                                                  \n",
      " activation_9 (Activation)   (None, 32, 16, 1024)         0         ['batch_normalization_9[0][0]'\n",
      "                                                                    ]                             \n",
      "                                                                                                  \n",
      " conv2d_transpose (Conv2DTr  (None, 64, 32, 512)          2097664   ['activation_9[0][0]']        \n",
      " anspose)                                                                                         \n",
      "                                                                                                  \n",
      " concatenate (Concatenate)   (None, 64, 32, 1024)         0         ['conv2d_transpose[0][0]',    \n",
      "                                                                     'activation_7[0][0]']        \n",
      "                                                                                                  \n",
      " conv2d_10 (Conv2D)          (None, 64, 32, 512)          4719104   ['concatenate[0][0]']         \n",
      "                                                                                                  \n",
      " batch_normalization_10 (Ba  (None, 64, 32, 512)          2048      ['conv2d_10[0][0]']           \n",
      " tchNormalization)                                                                                \n",
      "                                                                                                  \n",
      " activation_10 (Activation)  (None, 64, 32, 512)          0         ['batch_normalization_10[0][0]\n",
      "                                                                    ']                            \n",
      "                                                                                                  \n",
      " conv2d_11 (Conv2D)          (None, 64, 32, 512)          2359808   ['activation_10[0][0]']       \n",
      "                                                                                                  \n",
      " batch_normalization_11 (Ba  (None, 64, 32, 512)          2048      ['conv2d_11[0][0]']           \n",
      " tchNormalization)                                                                                \n",
      "                                                                                                  \n",
      " activation_11 (Activation)  (None, 64, 32, 512)          0         ['batch_normalization_11[0][0]\n",
      "                                                                    ']                            \n",
      "                                                                                                  \n",
      " conv2d_transpose_1 (Conv2D  (None, 128, 64, 256)         524544    ['activation_11[0][0]']       \n",
      " Transpose)                                                                                       \n",
      "                                                                                                  \n",
      " concatenate_1 (Concatenate  (None, 128, 64, 512)         0         ['conv2d_transpose_1[0][0]',  \n",
      " )                                                                   'activation_5[0][0]']        \n",
      "                                                                                                  \n",
      " conv2d_12 (Conv2D)          (None, 128, 64, 256)         1179904   ['concatenate_1[0][0]']       \n",
      "                                                                                                  \n",
      " batch_normalization_12 (Ba  (None, 128, 64, 256)         1024      ['conv2d_12[0][0]']           \n",
      " tchNormalization)                                                                                \n",
      "                                                                                                  \n",
      " activation_12 (Activation)  (None, 128, 64, 256)         0         ['batch_normalization_12[0][0]\n",
      "                                                                    ']                            \n",
      "                                                                                                  \n",
      " conv2d_13 (Conv2D)          (None, 128, 64, 256)         590080    ['activation_12[0][0]']       \n",
      "                                                                                                  \n",
      " batch_normalization_13 (Ba  (None, 128, 64, 256)         1024      ['conv2d_13[0][0]']           \n",
      " tchNormalization)                                                                                \n",
      "                                                                                                  \n",
      " activation_13 (Activation)  (None, 128, 64, 256)         0         ['batch_normalization_13[0][0]\n",
      "                                                                    ']                            \n",
      "                                                                                                  \n",
      " conv2d_transpose_2 (Conv2D  (None, 256, 128, 128)        131200    ['activation_13[0][0]']       \n",
      " Transpose)                                                                                       \n",
      "                                                                                                  \n",
      " concatenate_2 (Concatenate  (None, 256, 128, 256)        0         ['conv2d_transpose_2[0][0]',  \n",
      " )                                                                   'activation_3[0][0]']        \n",
      "                                                                                                  \n",
      " conv2d_14 (Conv2D)          (None, 256, 128, 128)        295040    ['concatenate_2[0][0]']       \n",
      "                                                                                                  \n",
      " batch_normalization_14 (Ba  (None, 256, 128, 128)        512       ['conv2d_14[0][0]']           \n",
      " tchNormalization)                                                                                \n",
      "                                                                                                  \n",
      " activation_14 (Activation)  (None, 256, 128, 128)        0         ['batch_normalization_14[0][0]\n",
      "                                                                    ']                            \n",
      "                                                                                                  \n",
      " conv2d_15 (Conv2D)          (None, 256, 128, 128)        147584    ['activation_14[0][0]']       \n",
      "                                                                                                  \n",
      " batch_normalization_15 (Ba  (None, 256, 128, 128)        512       ['conv2d_15[0][0]']           \n",
      " tchNormalization)                                                                                \n",
      "                                                                                                  \n",
      " activation_15 (Activation)  (None, 256, 128, 128)        0         ['batch_normalization_15[0][0]\n",
      "                                                                    ']                            \n",
      "                                                                                                  \n",
      " conv2d_transpose_3 (Conv2D  (None, 512, 256, 64)         32832     ['activation_15[0][0]']       \n",
      " Transpose)                                                                                       \n",
      "                                                                                                  \n",
      " concatenate_3 (Concatenate  (None, 512, 256, 128)        0         ['conv2d_transpose_3[0][0]',  \n"
     ]
    },
    {
     "name": "stdout",
     "output_type": "stream",
     "text": [
      " )                                                                   'activation_1[0][0]']        \n",
      "                                                                                                  \n",
      " conv2d_16 (Conv2D)          (None, 512, 256, 64)         73792     ['concatenate_3[0][0]']       \n",
      "                                                                                                  \n",
      " batch_normalization_16 (Ba  (None, 512, 256, 64)         256       ['conv2d_16[0][0]']           \n",
      " tchNormalization)                                                                                \n",
      "                                                                                                  \n",
      " activation_16 (Activation)  (None, 512, 256, 64)         0         ['batch_normalization_16[0][0]\n",
      "                                                                    ']                            \n",
      "                                                                                                  \n",
      " conv2d_17 (Conv2D)          (None, 512, 256, 64)         36928     ['activation_16[0][0]']       \n",
      "                                                                                                  \n",
      " batch_normalization_17 (Ba  (None, 512, 256, 64)         256       ['conv2d_17[0][0]']           \n",
      " tchNormalization)                                                                                \n",
      "                                                                                                  \n",
      " activation_17 (Activation)  (None, 512, 256, 64)         0         ['batch_normalization_17[0][0]\n",
      "                                                                    ']                            \n",
      "                                                                                                  \n",
      " conv2d_18 (Conv2D)          (None, 512, 256, 1)          65        ['activation_17[0][0]']       \n",
      "                                                                                                  \n",
      "==================================================================================================\n",
      "Total params: 31055297 (118.47 MB)\n",
      "Trainable params: 31043521 (118.42 MB)\n",
      "Non-trainable params: 11776 (46.00 KB)\n",
      "__________________________________________________________________________________________________\n",
      "None\n"
     ]
    }
   ],
   "source": [
    "model = build_unet((H, W, 3))\n",
    "metrics = [dice_coef, iou, Recall(), Precision()]\n",
    "model.compile(loss=dice_loss, optimizer=Adam(lr), metrics=metrics)\n",
    "\n",
    "callbacks = [\n",
    "    ModelCheckpoint(model_path, verbose=1, save_best_only=True),\n",
    "    ReduceLROnPlateau(monitor='val_loss', factor=0.1, patience=5, min_lr=1e-7, verbose=1),\n",
    "    CSVLogger(csv_path),\n",
    "    TensorBoard(),\n",
    "    EarlyStopping(monitor='val_loss', patience=20, restore_best_weights=False),\n",
    "]\n"
   ]
  },
  {
   "cell_type": "code",
   "execution_count": null,
   "id": "d5df1b3a",
   "metadata": {
    "ExecuteTime": {
     "start_time": "2024-02-08T07:15:26.579Z"
    }
   },
   "outputs": [
    {
     "name": "stdout",
     "output_type": "stream",
     "text": [
      "Epoch 1/100\n",
      "312/312 [==============================] - ETA: 0s - loss: 0.6176 - dice_coef: 0.3824 - iou: 0.2547 - recall: 0.7912 - precision: 0.4160  \n",
      "Epoch 1: val_loss improved from inf to 0.88856, saving model to files\\model_segmentation_256x512px.h5\n"
     ]
    },
    {
     "name": "stderr",
     "output_type": "stream",
     "text": [
      "C:\\Users\\AI\\anaconda3\\lib\\site-packages\\keras\\src\\engine\\training.py:3000: UserWarning: You are saving your model as an HDF5 file via `model.save()`. This file format is considered legacy. We recommend using instead the native Keras format, e.g. `model.save('my_model.keras')`.\n",
      "  saving_api.save_model(\n"
     ]
    },
    {
     "name": "stdout",
     "output_type": "stream",
     "text": [
      "312/312 [==============================] - 24713s 79s/step - loss: 0.6176 - dice_coef: 0.3824 - iou: 0.2547 - recall: 0.7912 - precision: 0.4160 - val_loss: 0.8886 - val_dice_coef: 0.1113 - val_iou: 0.0590 - val_recall: 1.0000 - val_precision: 0.0632 - lr: 1.0000e-04\n",
      "Epoch 2/100\n",
      "312/312 [==============================] - ETA: 0s - loss: 0.4874 - dice_coef: 0.5126 - iou: 0.3665 - recall: 0.7383 - precision: 0.5965  \n",
      "Epoch 2: val_loss improved from 0.88856 to 0.75721, saving model to files\\model_segmentation_256x512px.h5\n",
      "312/312 [==============================] - 24341s 78s/step - loss: 0.4874 - dice_coef: 0.5126 - iou: 0.3665 - recall: 0.7383 - precision: 0.5965 - val_loss: 0.7572 - val_dice_coef: 0.2429 - val_iou: 0.1390 - val_recall: 0.1818 - val_precision: 0.7787 - lr: 1.0000e-04\n",
      "Epoch 3/100\n",
      " 66/312 [=====>........................] - ETA: 5:14:14 - loss: 0.4584 - dice_coef: 0.5416 - iou: 0.3957 - recall: 0.6764 - precision: 0.6024"
     ]
    }
   ],
   "source": [
    "model.fit(\n",
    "    train_dataset,\n",
    "    epochs=num_epochs,\n",
    "    validation_data=valid_dataset,\n",
    "    callbacks=callbacks,\n",
    "    shuffle=True\n",
    ")"
   ]
  },
  {
   "cell_type": "markdown",
   "id": "d7383f03",
   "metadata": {},
   "source": [
    "# load model after training"
   ]
  },
  {
   "cell_type": "code",
   "execution_count": 27,
   "id": "66732490",
   "metadata": {
    "ExecuteTime": {
     "end_time": "2024-02-06T22:48:31.744412Z",
     "start_time": "2024-02-06T22:48:29.666759Z"
    }
   },
   "outputs": [],
   "source": [
    "with CustomObjectScope({\"dice_coef\": dice_coef, \"dice_loss\": dice_loss}):\n",
    "    model = tf.keras.models.load_model(os.path.join(\"files\", model_name))"
   ]
  },
  {
   "cell_type": "markdown",
   "id": "8520c344",
   "metadata": {},
   "source": [
    "# Prediction and Evaluation"
   ]
  },
  {
   "cell_type": "code",
   "execution_count": 43,
   "id": "5b0ab2cc",
   "metadata": {
    "ExecuteTime": {
     "end_time": "2024-02-06T23:16:12.205415Z",
     "start_time": "2024-02-06T23:16:09.623301Z"
    }
   },
   "outputs": [
    {
     "name": "stderr",
     "output_type": "stream",
     "text": [
      "  0%|                                                                                            | 0/2 [00:02<?, ?it/s]\n"
     ]
    },
    {
     "ename": "InvalidArgumentError",
     "evalue": "Graph execution error:\n\nDetected at node 'UNET/concatenate_1/concat' defined at (most recent call last):\n    File \"C:\\Users\\AI\\anaconda3\\lib\\runpy.py\", line 197, in _run_module_as_main\n      return _run_code(code, main_globals, None,\n    File \"C:\\Users\\AI\\anaconda3\\lib\\runpy.py\", line 87, in _run_code\n      exec(code, run_globals)\n    File \"C:\\Users\\AI\\anaconda3\\lib\\site-packages\\ipykernel_launcher.py\", line 16, in <module>\n      app.launch_new_instance()\n    File \"C:\\Users\\AI\\anaconda3\\lib\\site-packages\\traitlets\\config\\application.py\", line 846, in launch_instance\n      app.start()\n    File \"C:\\Users\\AI\\anaconda3\\lib\\site-packages\\ipykernel\\kernelapp.py\", line 677, in start\n      self.io_loop.start()\n    File \"C:\\Users\\AI\\anaconda3\\lib\\site-packages\\tornado\\platform\\asyncio.py\", line 199, in start\n      self.asyncio_loop.run_forever()\n    File \"C:\\Users\\AI\\anaconda3\\lib\\asyncio\\base_events.py\", line 601, in run_forever\n      self._run_once()\n    File \"C:\\Users\\AI\\anaconda3\\lib\\asyncio\\base_events.py\", line 1905, in _run_once\n      handle._run()\n    File \"C:\\Users\\AI\\anaconda3\\lib\\asyncio\\events.py\", line 80, in _run\n      self._context.run(self._callback, *self._args)\n    File \"C:\\Users\\AI\\anaconda3\\lib\\site-packages\\ipykernel\\kernelbase.py\", line 471, in dispatch_queue\n      await self.process_one()\n    File \"C:\\Users\\AI\\anaconda3\\lib\\site-packages\\ipykernel\\kernelbase.py\", line 460, in process_one\n      await dispatch(*args)\n    File \"C:\\Users\\AI\\anaconda3\\lib\\site-packages\\ipykernel\\kernelbase.py\", line 367, in dispatch_shell\n      await result\n    File \"C:\\Users\\AI\\anaconda3\\lib\\site-packages\\ipykernel\\kernelbase.py\", line 662, in execute_request\n      reply_content = await reply_content\n    File \"C:\\Users\\AI\\anaconda3\\lib\\site-packages\\ipykernel\\ipkernel.py\", line 360, in do_execute\n      res = shell.run_cell(code, store_history=store_history, silent=silent)\n    File \"C:\\Users\\AI\\anaconda3\\lib\\site-packages\\ipykernel\\zmqshell.py\", line 532, in run_cell\n      return super().run_cell(*args, **kwargs)\n    File \"C:\\Users\\AI\\anaconda3\\lib\\site-packages\\IPython\\core\\interactiveshell.py\", line 2863, in run_cell\n      result = self._run_cell(\n    File \"C:\\Users\\AI\\anaconda3\\lib\\site-packages\\IPython\\core\\interactiveshell.py\", line 2909, in _run_cell\n      return runner(coro)\n    File \"C:\\Users\\AI\\anaconda3\\lib\\site-packages\\IPython\\core\\async_helpers.py\", line 129, in _pseudo_sync_runner\n      coro.send(None)\n    File \"C:\\Users\\AI\\anaconda3\\lib\\site-packages\\IPython\\core\\interactiveshell.py\", line 3106, in run_cell_async\n      has_raised = await self.run_ast_nodes(code_ast.body, cell_name,\n    File \"C:\\Users\\AI\\anaconda3\\lib\\site-packages\\IPython\\core\\interactiveshell.py\", line 3309, in run_ast_nodes\n      if await self.run_code(code, result, async_=asy):\n    File \"C:\\Users\\AI\\anaconda3\\lib\\site-packages\\IPython\\core\\interactiveshell.py\", line 3369, in run_code\n      exec(code_obj, self.user_global_ns, self.user_ns)\n    File \"C:\\Users\\AI\\AppData\\Local\\Temp\\ipykernel_8684\\1903342958.py\", line 19, in <cell line: 3>\n      y_pred = model.predict(x)[0]\n    File \"C:\\Users\\AI\\anaconda3\\lib\\site-packages\\keras\\src\\utils\\traceback_utils.py\", line 65, in error_handler\n      return fn(*args, **kwargs)\n    File \"C:\\Users\\AI\\anaconda3\\lib\\site-packages\\keras\\src\\engine\\training.py\", line 2554, in predict\n      tmp_batch_outputs = self.predict_function(iterator)\n    File \"C:\\Users\\AI\\anaconda3\\lib\\site-packages\\keras\\src\\engine\\training.py\", line 2341, in predict_function\n      return step_function(self, iterator)\n    File \"C:\\Users\\AI\\anaconda3\\lib\\site-packages\\keras\\src\\engine\\training.py\", line 2327, in step_function\n      outputs = model.distribute_strategy.run(run_step, args=(data,))\n    File \"C:\\Users\\AI\\anaconda3\\lib\\site-packages\\keras\\src\\engine\\training.py\", line 2315, in run_step\n      outputs = model.predict_step(data)\n    File \"C:\\Users\\AI\\anaconda3\\lib\\site-packages\\keras\\src\\engine\\training.py\", line 2283, in predict_step\n      return self(x, training=False)\n    File \"C:\\Users\\AI\\anaconda3\\lib\\site-packages\\keras\\src\\utils\\traceback_utils.py\", line 65, in error_handler\n      return fn(*args, **kwargs)\n    File \"C:\\Users\\AI\\anaconda3\\lib\\site-packages\\keras\\src\\engine\\training.py\", line 569, in __call__\n      return super().__call__(*args, **kwargs)\n    File \"C:\\Users\\AI\\anaconda3\\lib\\site-packages\\keras\\src\\utils\\traceback_utils.py\", line 65, in error_handler\n      return fn(*args, **kwargs)\n    File \"C:\\Users\\AI\\anaconda3\\lib\\site-packages\\keras\\src\\engine\\base_layer.py\", line 1150, in __call__\n      outputs = call_fn(inputs, *args, **kwargs)\n    File \"C:\\Users\\AI\\anaconda3\\lib\\site-packages\\keras\\src\\utils\\traceback_utils.py\", line 96, in error_handler\n      return fn(*args, **kwargs)\n    File \"C:\\Users\\AI\\anaconda3\\lib\\site-packages\\keras\\src\\engine\\functional.py\", line 512, in call\n      return self._run_internal_graph(inputs, training=training, mask=mask)\n    File \"C:\\Users\\AI\\anaconda3\\lib\\site-packages\\keras\\src\\engine\\functional.py\", line 669, in _run_internal_graph\n      outputs = node.layer(*args, **kwargs)\n    File \"C:\\Users\\AI\\anaconda3\\lib\\site-packages\\keras\\src\\utils\\traceback_utils.py\", line 65, in error_handler\n      return fn(*args, **kwargs)\n    File \"C:\\Users\\AI\\anaconda3\\lib\\site-packages\\keras\\src\\engine\\base_layer.py\", line 1150, in __call__\n      outputs = call_fn(inputs, *args, **kwargs)\n    File \"C:\\Users\\AI\\anaconda3\\lib\\site-packages\\keras\\src\\utils\\traceback_utils.py\", line 96, in error_handler\n      return fn(*args, **kwargs)\n    File \"C:\\Users\\AI\\anaconda3\\lib\\site-packages\\keras\\src\\layers\\merging\\base_merge.py\", line 196, in call\n      return self._merge_function(inputs)\n    File \"C:\\Users\\AI\\anaconda3\\lib\\site-packages\\keras\\src\\layers\\merging\\concatenate.py\", line 134, in _merge_function\n      return backend.concatenate(inputs, axis=self.axis)\n    File \"C:\\Users\\AI\\anaconda3\\lib\\site-packages\\keras\\src\\backend.py\", line 3582, in concatenate\n      return tf.concat([to_dense(x) for x in tensors], axis)\nNode: 'UNET/concatenate_1/concat'\nConcatOp : Dimension 2 in both shapes must be equal: shape[0] = [1,128,80,256] vs. shape[1] = [1,128,81,256]\n\t [[{{node UNET/concatenate_1/concat}}]] [Op:__inference_predict_function_19832]",
     "output_type": "error",
     "traceback": [
      "\u001b[1;31m---------------------------------------------------------------------------\u001b[0m",
      "\u001b[1;31mInvalidArgumentError\u001b[0m                      Traceback (most recent call last)",
      "Input \u001b[1;32mIn [43]\u001b[0m, in \u001b[0;36m<cell line: 3>\u001b[1;34m()\u001b[0m\n\u001b[0;32m     16\u001b[0m y \u001b[38;5;241m=\u001b[39m y\u001b[38;5;241m.\u001b[39mastype(np\u001b[38;5;241m.\u001b[39mint32)\n\u001b[0;32m     18\u001b[0m \u001b[38;5;250m\u001b[39m\u001b[38;5;124;03m\"\"\" Prediction \"\"\"\u001b[39;00m\n\u001b[1;32m---> 19\u001b[0m y_pred \u001b[38;5;241m=\u001b[39m \u001b[43mmodel\u001b[49m\u001b[38;5;241;43m.\u001b[39;49m\u001b[43mpredict\u001b[49m\u001b[43m(\u001b[49m\u001b[43mx\u001b[49m\u001b[43m)\u001b[49m[\u001b[38;5;241m0\u001b[39m]\n\u001b[0;32m     20\u001b[0m y_pred \u001b[38;5;241m=\u001b[39m np\u001b[38;5;241m.\u001b[39msqueeze(y_pred, axis\u001b[38;5;241m=\u001b[39m\u001b[38;5;241m-\u001b[39m\u001b[38;5;241m1\u001b[39m)\n\u001b[0;32m     21\u001b[0m y_pred \u001b[38;5;241m=\u001b[39m y_pred \u001b[38;5;241m>\u001b[39m \u001b[38;5;241m0.5\u001b[39m\n",
      "File \u001b[1;32m~\\anaconda3\\lib\\site-packages\\keras\\src\\utils\\traceback_utils.py:70\u001b[0m, in \u001b[0;36mfilter_traceback.<locals>.error_handler\u001b[1;34m(*args, **kwargs)\u001b[0m\n\u001b[0;32m     67\u001b[0m     filtered_tb \u001b[38;5;241m=\u001b[39m _process_traceback_frames(e\u001b[38;5;241m.\u001b[39m__traceback__)\n\u001b[0;32m     68\u001b[0m     \u001b[38;5;66;03m# To get the full stack trace, call:\u001b[39;00m\n\u001b[0;32m     69\u001b[0m     \u001b[38;5;66;03m# `tf.debugging.disable_traceback_filtering()`\u001b[39;00m\n\u001b[1;32m---> 70\u001b[0m     \u001b[38;5;28;01mraise\u001b[39;00m e\u001b[38;5;241m.\u001b[39mwith_traceback(filtered_tb) \u001b[38;5;28;01mfrom\u001b[39;00m \u001b[38;5;28;01mNone\u001b[39;00m\n\u001b[0;32m     71\u001b[0m \u001b[38;5;28;01mfinally\u001b[39;00m:\n\u001b[0;32m     72\u001b[0m     \u001b[38;5;28;01mdel\u001b[39;00m filtered_tb\n",
      "File \u001b[1;32m~\\anaconda3\\lib\\site-packages\\tensorflow\\python\\eager\\execute.py:53\u001b[0m, in \u001b[0;36mquick_execute\u001b[1;34m(op_name, num_outputs, inputs, attrs, ctx, name)\u001b[0m\n\u001b[0;32m     51\u001b[0m \u001b[38;5;28;01mtry\u001b[39;00m:\n\u001b[0;32m     52\u001b[0m   ctx\u001b[38;5;241m.\u001b[39mensure_initialized()\n\u001b[1;32m---> 53\u001b[0m   tensors \u001b[38;5;241m=\u001b[39m pywrap_tfe\u001b[38;5;241m.\u001b[39mTFE_Py_Execute(ctx\u001b[38;5;241m.\u001b[39m_handle, device_name, op_name,\n\u001b[0;32m     54\u001b[0m                                       inputs, attrs, num_outputs)\n\u001b[0;32m     55\u001b[0m \u001b[38;5;28;01mexcept\u001b[39;00m core\u001b[38;5;241m.\u001b[39m_NotOkStatusException \u001b[38;5;28;01mas\u001b[39;00m e:\n\u001b[0;32m     56\u001b[0m   \u001b[38;5;28;01mif\u001b[39;00m name \u001b[38;5;129;01mis\u001b[39;00m \u001b[38;5;129;01mnot\u001b[39;00m \u001b[38;5;28;01mNone\u001b[39;00m:\n",
      "\u001b[1;31mInvalidArgumentError\u001b[0m: Graph execution error:\n\nDetected at node 'UNET/concatenate_1/concat' defined at (most recent call last):\n    File \"C:\\Users\\AI\\anaconda3\\lib\\runpy.py\", line 197, in _run_module_as_main\n      return _run_code(code, main_globals, None,\n    File \"C:\\Users\\AI\\anaconda3\\lib\\runpy.py\", line 87, in _run_code\n      exec(code, run_globals)\n    File \"C:\\Users\\AI\\anaconda3\\lib\\site-packages\\ipykernel_launcher.py\", line 16, in <module>\n      app.launch_new_instance()\n    File \"C:\\Users\\AI\\anaconda3\\lib\\site-packages\\traitlets\\config\\application.py\", line 846, in launch_instance\n      app.start()\n    File \"C:\\Users\\AI\\anaconda3\\lib\\site-packages\\ipykernel\\kernelapp.py\", line 677, in start\n      self.io_loop.start()\n    File \"C:\\Users\\AI\\anaconda3\\lib\\site-packages\\tornado\\platform\\asyncio.py\", line 199, in start\n      self.asyncio_loop.run_forever()\n    File \"C:\\Users\\AI\\anaconda3\\lib\\asyncio\\base_events.py\", line 601, in run_forever\n      self._run_once()\n    File \"C:\\Users\\AI\\anaconda3\\lib\\asyncio\\base_events.py\", line 1905, in _run_once\n      handle._run()\n    File \"C:\\Users\\AI\\anaconda3\\lib\\asyncio\\events.py\", line 80, in _run\n      self._context.run(self._callback, *self._args)\n    File \"C:\\Users\\AI\\anaconda3\\lib\\site-packages\\ipykernel\\kernelbase.py\", line 471, in dispatch_queue\n      await self.process_one()\n    File \"C:\\Users\\AI\\anaconda3\\lib\\site-packages\\ipykernel\\kernelbase.py\", line 460, in process_one\n      await dispatch(*args)\n    File \"C:\\Users\\AI\\anaconda3\\lib\\site-packages\\ipykernel\\kernelbase.py\", line 367, in dispatch_shell\n      await result\n    File \"C:\\Users\\AI\\anaconda3\\lib\\site-packages\\ipykernel\\kernelbase.py\", line 662, in execute_request\n      reply_content = await reply_content\n    File \"C:\\Users\\AI\\anaconda3\\lib\\site-packages\\ipykernel\\ipkernel.py\", line 360, in do_execute\n      res = shell.run_cell(code, store_history=store_history, silent=silent)\n    File \"C:\\Users\\AI\\anaconda3\\lib\\site-packages\\ipykernel\\zmqshell.py\", line 532, in run_cell\n      return super().run_cell(*args, **kwargs)\n    File \"C:\\Users\\AI\\anaconda3\\lib\\site-packages\\IPython\\core\\interactiveshell.py\", line 2863, in run_cell\n      result = self._run_cell(\n    File \"C:\\Users\\AI\\anaconda3\\lib\\site-packages\\IPython\\core\\interactiveshell.py\", line 2909, in _run_cell\n      return runner(coro)\n    File \"C:\\Users\\AI\\anaconda3\\lib\\site-packages\\IPython\\core\\async_helpers.py\", line 129, in _pseudo_sync_runner\n      coro.send(None)\n    File \"C:\\Users\\AI\\anaconda3\\lib\\site-packages\\IPython\\core\\interactiveshell.py\", line 3106, in run_cell_async\n      has_raised = await self.run_ast_nodes(code_ast.body, cell_name,\n    File \"C:\\Users\\AI\\anaconda3\\lib\\site-packages\\IPython\\core\\interactiveshell.py\", line 3309, in run_ast_nodes\n      if await self.run_code(code, result, async_=asy):\n    File \"C:\\Users\\AI\\anaconda3\\lib\\site-packages\\IPython\\core\\interactiveshell.py\", line 3369, in run_code\n      exec(code_obj, self.user_global_ns, self.user_ns)\n    File \"C:\\Users\\AI\\AppData\\Local\\Temp\\ipykernel_8684\\1903342958.py\", line 19, in <cell line: 3>\n      y_pred = model.predict(x)[0]\n    File \"C:\\Users\\AI\\anaconda3\\lib\\site-packages\\keras\\src\\utils\\traceback_utils.py\", line 65, in error_handler\n      return fn(*args, **kwargs)\n    File \"C:\\Users\\AI\\anaconda3\\lib\\site-packages\\keras\\src\\engine\\training.py\", line 2554, in predict\n      tmp_batch_outputs = self.predict_function(iterator)\n    File \"C:\\Users\\AI\\anaconda3\\lib\\site-packages\\keras\\src\\engine\\training.py\", line 2341, in predict_function\n      return step_function(self, iterator)\n    File \"C:\\Users\\AI\\anaconda3\\lib\\site-packages\\keras\\src\\engine\\training.py\", line 2327, in step_function\n      outputs = model.distribute_strategy.run(run_step, args=(data,))\n    File \"C:\\Users\\AI\\anaconda3\\lib\\site-packages\\keras\\src\\engine\\training.py\", line 2315, in run_step\n      outputs = model.predict_step(data)\n    File \"C:\\Users\\AI\\anaconda3\\lib\\site-packages\\keras\\src\\engine\\training.py\", line 2283, in predict_step\n      return self(x, training=False)\n    File \"C:\\Users\\AI\\anaconda3\\lib\\site-packages\\keras\\src\\utils\\traceback_utils.py\", line 65, in error_handler\n      return fn(*args, **kwargs)\n    File \"C:\\Users\\AI\\anaconda3\\lib\\site-packages\\keras\\src\\engine\\training.py\", line 569, in __call__\n      return super().__call__(*args, **kwargs)\n    File \"C:\\Users\\AI\\anaconda3\\lib\\site-packages\\keras\\src\\utils\\traceback_utils.py\", line 65, in error_handler\n      return fn(*args, **kwargs)\n    File \"C:\\Users\\AI\\anaconda3\\lib\\site-packages\\keras\\src\\engine\\base_layer.py\", line 1150, in __call__\n      outputs = call_fn(inputs, *args, **kwargs)\n    File \"C:\\Users\\AI\\anaconda3\\lib\\site-packages\\keras\\src\\utils\\traceback_utils.py\", line 96, in error_handler\n      return fn(*args, **kwargs)\n    File \"C:\\Users\\AI\\anaconda3\\lib\\site-packages\\keras\\src\\engine\\functional.py\", line 512, in call\n      return self._run_internal_graph(inputs, training=training, mask=mask)\n    File \"C:\\Users\\AI\\anaconda3\\lib\\site-packages\\keras\\src\\engine\\functional.py\", line 669, in _run_internal_graph\n      outputs = node.layer(*args, **kwargs)\n    File \"C:\\Users\\AI\\anaconda3\\lib\\site-packages\\keras\\src\\utils\\traceback_utils.py\", line 65, in error_handler\n      return fn(*args, **kwargs)\n    File \"C:\\Users\\AI\\anaconda3\\lib\\site-packages\\keras\\src\\engine\\base_layer.py\", line 1150, in __call__\n      outputs = call_fn(inputs, *args, **kwargs)\n    File \"C:\\Users\\AI\\anaconda3\\lib\\site-packages\\keras\\src\\utils\\traceback_utils.py\", line 96, in error_handler\n      return fn(*args, **kwargs)\n    File \"C:\\Users\\AI\\anaconda3\\lib\\site-packages\\keras\\src\\layers\\merging\\base_merge.py\", line 196, in call\n      return self._merge_function(inputs)\n    File \"C:\\Users\\AI\\anaconda3\\lib\\site-packages\\keras\\src\\layers\\merging\\concatenate.py\", line 134, in _merge_function\n      return backend.concatenate(inputs, axis=self.axis)\n    File \"C:\\Users\\AI\\anaconda3\\lib\\site-packages\\keras\\src\\backend.py\", line 3582, in concatenate\n      return tf.concat([to_dense(x) for x in tensors], axis)\nNode: 'UNET/concatenate_1/concat'\nConcatOp : Dimension 2 in both shapes must be equal: shape[0] = [1,128,80,256] vs. shape[1] = [1,128,81,256]\n\t [[{{node UNET/concatenate_1/concat}}]] [Op:__inference_predict_function_19832]"
     ]
    }
   ],
   "source": [
    "create_dir(\"results\")\n",
    "SCORE = []\n",
    "for x, y in tqdm(zip(test_x, test_y), total=len(test_x)):\n",
    "    \"\"\" Extract the name \"\"\"\n",
    "    name = x.split(\"/\")[-1].split(\".\")[0]\n",
    "\n",
    "    \"\"\" Reading the image \"\"\"\n",
    "    image = cv2.imread(x, cv2.IMREAD_COLOR)\n",
    "    x = image/255.0\n",
    "    x = np.expand_dims(x, axis=0)\n",
    "\n",
    "    \"\"\" Reading the mask \"\"\"\n",
    "    mask = cv2.imread(y, cv2.IMREAD_GRAYSCALE)\n",
    "    y = mask/255.0\n",
    "    y = y > 0.5\n",
    "    y = y.astype(np.int32)\n",
    "\n",
    "    \"\"\" Prediction \"\"\"\n",
    "    y_pred = model.predict(x)[0]\n",
    "    y_pred = np.squeeze(y_pred, axis=-1)\n",
    "    y_pred = y_pred > 0.5\n",
    "    y_pred = y_pred.astype(np.int32)\n",
    "\n",
    "    \"\"\" Saving the prediction \"\"\"\n",
    "    save_image_path = f\"results/{name}.jpg\"\n",
    "    save_results(image, mask, y_pred, save_image_path)\n",
    "    \"\"\" Flatten the array \"\"\"\n",
    "    mask = mask/255.0\n",
    "    mask = (mask > 0.5).astype(np.int32).flatten()\n",
    "    y_pred = y_pred.flatten()\n",
    "\n",
    "    \"\"\" Calculating the metrics values \"\"\"\n",
    "    f1_value = f1_score(mask, y_pred, labels=[0, 1], average=\"binary\")\n",
    "    jac_value = jaccard_score(mask, y_pred, labels=[0, 1], average=\"binary\")\n",
    "    recall_value = recall_score(mask, y_pred, labels=[0, 1], average=\"binary\", zero_division=0)\n",
    "    precision_value = precision_score(mask, y_pred, labels=[0, 1], average=\"binary\", zero_division=0)\n",
    "    SCORE.append([name, f1_value, jac_value, recall_value, precision_value])"
   ]
  },
  {
   "cell_type": "code",
   "execution_count": 31,
   "id": "29364056",
   "metadata": {
    "ExecuteTime": {
     "end_time": "2024-02-06T22:49:32.273740Z",
     "start_time": "2024-02-06T22:49:32.255733Z"
    }
   },
   "outputs": [
    {
     "name": "stdout",
     "output_type": "stream",
     "text": [
      "F1: 0.02142\n",
      "Jaccard: 0.01085\n",
      "Recall: 1.00000\n",
      "Precision: 0.01085\n"
     ]
    }
   ],
   "source": [
    "\"\"\" Metrics values \"\"\"\n",
    "score = [s[1:]for s in SCORE]\n",
    "score = np.mean(score, axis=0)\n",
    "print(f\"F1: {score[0]:0.5f}\")\n",
    "print(f\"Jaccard: {score[1]:0.5f}\")\n",
    "print(f\"Recall: {score[2]:0.5f}\")\n",
    "print(f\"Precision: {score[3]:0.5f}\")\n",
    "\n",
    "df = pd.DataFrame(SCORE, columns=[\"Image\", \"F1\", \"Jaccard\", \"Recall\", \"Precision\"])\n",
    "df.to_csv(\"files/score.csv\")"
   ]
  },
  {
   "cell_type": "code",
   "execution_count": null,
   "id": "680d1b72",
   "metadata": {},
   "outputs": [],
   "source": []
  }
 ],
 "metadata": {
  "kernelspec": {
   "display_name": "Python 3 (ipykernel)",
   "language": "python",
   "name": "python3"
  },
  "language_info": {
   "codemirror_mode": {
    "name": "ipython",
    "version": 3
   },
   "file_extension": ".py",
   "mimetype": "text/x-python",
   "name": "python",
   "nbconvert_exporter": "python",
   "pygments_lexer": "ipython3",
   "version": "3.9.12"
  },
  "toc": {
   "base_numbering": 1,
   "nav_menu": {},
   "number_sections": true,
   "sideBar": true,
   "skip_h1_title": false,
   "title_cell": "Table of Contents",
   "title_sidebar": "Contents",
   "toc_cell": false,
   "toc_position": {},
   "toc_section_display": true,
   "toc_window_display": false
  },
  "varInspector": {
   "cols": {
    "lenName": 16,
    "lenType": 16,
    "lenVar": 40
   },
   "kernels_config": {
    "python": {
     "delete_cmd_postfix": "",
     "delete_cmd_prefix": "del ",
     "library": "var_list.py",
     "varRefreshCmd": "print(var_dic_list())"
    },
    "r": {
     "delete_cmd_postfix": ") ",
     "delete_cmd_prefix": "rm(",
     "library": "var_list.r",
     "varRefreshCmd": "cat(var_dic_list()) "
    }
   },
   "types_to_exclude": [
    "module",
    "function",
    "builtin_function_or_method",
    "instance",
    "_Feature"
   ],
   "window_display": false
  }
 },
 "nbformat": 4,
 "nbformat_minor": 5
}
